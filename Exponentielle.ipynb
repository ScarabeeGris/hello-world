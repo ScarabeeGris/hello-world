{
  "nbformat": 4,
  "nbformat_minor": 0,
  "metadata": {
    "kernelspec": {
      "display_name": "Python 3",
      "language": "python",
      "name": "python3"
    },
    "language_info": {
      "codemirror_mode": {
        "name": "ipython",
        "version": 3
      },
      "file_extension": ".py",
      "mimetype": "text/x-python",
      "name": "python",
      "nbconvert_exporter": "python",
      "pygments_lexer": "ipython3",
      "version": "3.7.4"
    },
    "colab": {
      "name": "Exponentielle.ipynb",
      "provenance": [],
      "include_colab_link": true
    }
  },
  "cells": [
    {
      "cell_type": "markdown",
      "metadata": {
        "id": "view-in-github",
        "colab_type": "text"
      },
      "source": [
        "<a href=\"https://colab.research.google.com/github/ScarabeeGris/hello-world/blob/master/Exponentielle.ipynb\" target=\"_parent\"><img src=\"https://colab.research.google.com/assets/colab-badge.svg\" alt=\"Open In Colab\"/></a>"
      ]
    },
    {
      "cell_type": "markdown",
      "metadata": {
        "id": "-ZCR7Id51ItG",
        "colab_type": "text"
      },
      "source": [
        "# Fonction exponentielle\n"
      ]
    },
    {
      "cell_type": "code",
      "metadata": {
        "id": "Euso07Xb1ItH",
        "colab_type": "code",
        "colab": {}
      },
      "source": [
        "from math import *\n",
        "import matplotlib.pyplot as plt\n",
        "import numpy as np"
      ],
      "execution_count": 0,
      "outputs": []
    },
    {
      "cell_type": "code",
      "metadata": {
        "id": "1thDAIwL1ItN",
        "colab_type": "code",
        "outputId": "30a0a29d-0211-4dea-8ab1-8e2c43fc957a",
        "colab": {
          "base_uri": "https://localhost:8080/",
          "height": 295
        }
      },
      "source": [
        "# Tracé de la courbe \n",
        "x = np.linspace(-10,10,100)\n",
        "x1 = np.linspace(0.01,10,100)\n",
        "#plt.plot(x1, np.log(x1),'r', label=\"ln(x)\")\n",
        "plt.plot(x,np.exp(x),'r', label=\"exp(x)\")\n",
        "plt.plot(x, x+1, label=\"y = x+1\")\n",
        "plt.plot(x, x, label=\"y = x\")\n",
        "\n",
        "# Axes des coordonnées\n",
        "plt.plot(x, np.zeros(100), 'k')\n",
        "plt.plot([0, 0],[-20, 20], 'k')\n",
        "plt.text(-0.2, 0.1, \"O\")\n",
        "\n",
        "# Points remarquables\n",
        "plt.scatter(1, 0, color='r', s=20)\n",
        "plt.text(1+0.2, -0.2, \"1\")\n",
        "plt.scatter(e, 0, color='r', s=20)\n",
        "plt.text(e+0.1, -0.2, \"e\")\n",
        "plt.scatter(0, 1, color='r', s=20)\n",
        "plt.text(-0.2, 1, \"1\")\n",
        "plt.scatter(0, e, color='r', s=20)\n",
        "plt.text(-0.2, e, \"e\")\n",
        "\n",
        "plt.plot([0, 1],[e, e], color='k', linestyle=\":\")\n",
        "plt.plot([1, 1],[0, e], color='k', linestyle=\":\")\n",
        "#plt.plot([0, e],[1, 1], color='k', linestyle=\":\")\n",
        "plt.plot([e, e],[0, 1], color='k', linestyle=\":\")\n",
        "\n",
        "plt.title(\"Fonction exponentielle.\")\n",
        "plt.xlabel(\"x\")\n",
        "plt.ylabel(\"y\")\n",
        "plt.grid()\n",
        "plt.legend(loc=\"best\", shadow=True)\n",
        "# « cadrer » les axes   : plt.axis([xmin, xmax, ymin, ymax]).\n",
        "plt.axis([-2, 2, -1, 3.5])\n",
        "plt.show()"
      ],
      "execution_count": 0,
      "outputs": [
        {
          "output_type": "display_data",
          "data": {
            "image/png": "[encoded data removed]",
            "text/plain": [
              "<Figure size 432x288 with 1 Axes>"
            ]
          },
          "metadata": {
            "tags": [],
            "needs_background": "light"
          }
        }
      ]
    },
    {
      "cell_type": "markdown",
      "metadata": {
        "id": "ukBQVuN5Gy3e",
        "colab_type": "text"
      },
      "source": [
        ""
      ]
    },
    {
      "cell_type": "markdown",
      "metadata": {
        "id": "_2fVOod31ItT",
        "colab_type": "text"
      },
      "source": [
        "<span style='color:blue'>(Killian 15/04/20)</span><br>\n",
        "<b>Exercice 1. Simplifier les expressions suivantes :</b> </span><br>\n",
        "$A = \\frac{e^5 \\, \\times \\, e^{-3}}{e^{-2}}$<br>\n",
        "$B = \\frac{e^{1 + x}}{e^{x + 2}}$<br>\n",
        "$C = \\left(\\frac{e}{e^{-x}}\\right)^4$<br>"
      ]
    },
    {
      "cell_type": "markdown",
      "metadata": {
        "id": "5j9GAiev1ItU",
        "colab_type": "text"
      },
      "source": [
        "**Exercice 1. Corrigé**<br>\n",
        "$A = \\frac{e^5 \\, \\times \\, e^{-3}}{e^{-2}} = e^5 \\, \\times e^{-3} \\times e^2 = e^{5-3+2} = \\color{red}{e^4} $<br>\n",
        "$B = \\frac{e^{1 + x}}{e^{x + 2}} = e^{1 + x} \\times e^{-(x + 2)} = e^{1 + x -(x + 2)} = e^{1 + x -x - 2} = e^{-1} = \\color{red}{\\frac{1}{e}}$<br>\n",
        "$C = \\left(\\frac{e}{e^{-x}}\\right)^4 = \\left(e \\times e^x\\right)^4 = \\left(e^1 \\times e^x\\right)^4 = \\left(e^{1+x} \\right)^4 = \\color{red}{e^{4(1+x)}} $<br>\n",
        "Rappel : $e = e^1$ et $\\frac{1}{e^{-x}} = e^x$<br>"
      ]
    },
    {
      "cell_type": "markdown",
      "metadata": {
        "id": "wBsc9jXi1ItV",
        "colab_type": "text"
      },
      "source": [
        "<span style='color:blue'>(Killian 15/04/20)</span><br>\n",
        "<b>Exercice 2</b> <br>\n",
        "Montrer les égalités suivantes pour tout $x \\in \\mathbb{R} $ : <br>\n",
        "**a)** $(e^x + 1)^2 + (e^x - 1)^2 = 2(e^{2x} +1)$<br>\n",
        "**b)** $\\frac{e^{3x} - \\, e^{2x}}{e^{3x} + \\, e^{2x}} = \\frac{e^{2x}\\, - \\, 1}{(e^x + \\, 1)^2}$<br>"
      ]
    },
    {
      "cell_type": "markdown",
      "metadata": {
        "id": "j7Lg7U161ItV",
        "colab_type": "text"
      },
      "source": [
        "<b>Exercice 2 corrigé</b><br>\n",
        "<b>a)</b> $(e^x + 1)^2 + (e^x - 1)^2$ <br>\n",
        "$= e^{2x} + 2e^x + 1 + e^{2x} -2e^x + 1$ <br>\n",
        "$= 2^{2x} + 2 = 2(e^{2X} +1) $<br>\n",
        "\n",
        "<b>b)</b> $\\frac{e^{3x} - \\, e^{2x}}{e^{3x} + \\, e^{2x}} $<br>\n",
        "Au numérateur, on met $e^{2x}$ en facteur<br>\n",
        "$= \\frac{e^{2x}(e^x - 1)}{e^{2x}(e^x + 1)} $<br>\n",
        "$= \\frac{e^x - 1}{e^x + 1} $<br>\n",
        "On multiplie haut et bas au par ${e^x + 1}$<br>\n",
        "$= \\frac{(e^x - 1)(e^x + 1)}{(e^x + 1)(e^x + 1)} $<br>\n",
        "On utilise au numérateur l'identité remarquable :  $(a+b)(a-b) = a^2 - b^2$<br>\n",
        "$= \\frac{e^{2x} - 1}{(e^x + 1)^2}$<br>"
      ]
    },
    {
      "cell_type": "markdown",
      "metadata": {
        "id": "iElxPjw21ItW",
        "colab_type": "text"
      },
      "source": [
        "<span style='color:blue'>(Maël 15/04/20) (Killian 16/04/20)</span><br>\n",
        "<b>Exercice 3. Résoudre dans $\\mathbb{R}$<br>\n",
        "<b>a.</b> $e^{3x - 2} = e^x$ <br>\n",
        " \n",
        "<b>b.</b> $e^x = \\frac{e^x}{e^{x +1}}$<br>\n",
        "<br>   \n",
        "    \n",
        "<b>c.</b> $(e^x + 1) (e^x - 1) < 0$"
      ]
    },
    {
      "cell_type": "markdown",
      "metadata": {
        "id": "ZQthp4Tn1ItX",
        "colab_type": "text"
      },
      "source": [
        "<span style='color:blue'>(Maël 16/04/20)</span><br>\n",
        "<b>Exercice 3. Corrigé</b><br>\n",
        "<b>a.</b> $e^{3x - 2} = e^x$ <br>\n",
        "Comme $e^x$ strictement croissante $\\Rightarrow e^a = e^b \\Rightarrow a = b$<br>\n",
        "$e^{3x - 2} = e^x \\Rightarrow 3x - 2 = x $<br>\n",
        "$\\Rightarrow 3x - x = 2 $<br>\n",
        "$\\Rightarrow x = 1$\n",
        "\n",
        "<b>b.</b> $e^x = \\frac{e^x}{e^{x +1}} $<br>\n",
        "$e^x = \\frac{e^x}{e^x e^1} = \\frac{1}{e^1} $<br>\n",
        "$\\Rightarrow e^x = e^{-1} $<br>\n",
        "Comme $e^x$ strictement croissante $\\Rightarrow e^a = e^b \\Rightarrow a = b$<br>\n",
        "$\\Rightarrow x = -1$<br>\n",
        " \n",
        "<b>c.</b>  $(e^x + 1) (e^x - 1) < 0 $<br>\n",
        "Identité remarquable : $(a+b)(a-b) = a^2 - b^2$<br>\n",
        "$\\Rightarrow e^{2x} - 1 < 0 $<br>\n",
        "$\\Rightarrow e^{2x} < 1 $<br>\n",
        "En regardant la courbe de $e^x$ : $e^x < 1$ quand $x < 0$<br>\n",
        "$e^{2x} < 1 \\Rightarrow 2x < 0 $<br>\n",
        "$\\Rightarrow x < 0$<br>"
      ]
    },
    {
      "cell_type": "markdown",
      "metadata": {
        "id": "Y-7Sp1Jt1ItY",
        "colab_type": "text"
      },
      "source": [
        "<b>Exercice 4 : Injection sous contrôle</b><br>\n",
        "Concentration d'un produit injecté en intra-musculaire dans le sang en $mg . L^{-1}$ :<br>\n",
        "$g(x)$ définie sur $[0 \\, ; +\\infty[ \\,g(x) = 6x \\, e^{-x}$<br>\n",
        "$x$ est le temps exprimé en heures.<br>\n",
        "<b>a.</b> Etudier la variation de $g(x)$.<br>\n",
        "<b>b.</b> Donner une valeur approchée à 10<sup>-1</sup> près de la concentration maximale du médicament dans le sang.<br>\n",
        "<b>c.</b> La concentration dans le sang doit être inférieure à 0,05 $mg . L^{-1}$. <br>\n",
        "Combien d'heures faut-il attendre après l'injection pour être en-dessous de ce niveau ?<br>\n",
        "Utiliser une méthode de votre choix."
      ]
    },
    {
      "cell_type": "markdown",
      "metadata": {
        "id": "KnoMcIm01ItZ",
        "colab_type": "text"
      },
      "source": [
        "<b>Exercice 4. Corrigé</b><br>\n",
        "<u>Rappel</u> : Pour étudier le sens de variation d'une fonction, on calcule la dérivée.<br>\n",
        "Quand la dérivée est positive, la fonction est croissante.<br>\n",
        "Quand la dérivée est négative, la fonction est décroissante.<br>\n",
        "$(uv)' = u'v + uv'$<br>\n",
        "$ v = e^{-x} \\Rightarrow v'=-e^{-x}$<br>\n",
        "$g'(x) = 6e^{-x} - 6xe^{-x} = 6e^{-x} (1 - x)$<br>\n",
        "Le signe de $g'(x)$ est donné par le signe de $1-x$<br>\n",
        "\n",
        "| $x$ | $0$ || $1$||$+\\infty$|\n",
        "|:-----:|------:|------:|------:|------:|------:|\n",
        "|$g'(x)$|6|+|0|-||\n",
        "|$g(x)$|0| $\\nearrow$ | $6 \\over e$ | $\\searrow$|0|\n",
        "\n",
        "<b>c.</b> $g(x) = 0.05$<br>\n",
        "$ 6x \\, e^{-x} = 0.05$<br>\n",
        "$ x \\, e^{-x} = 0.05 / 6 = 0.0083$<br>\n",
        "Equation difficile à résoudre, aussi utiliserons nous une méthode algorithmique."
      ]
    },
    {
      "cell_type": "code",
      "metadata": {
        "id": "zwcz8POQ1Ite",
        "colab_type": "code",
        "outputId": "9a1d9799-4873-48c1-f29c-8b0f94f6ec83",
        "colab": {
          "base_uri": "https://localhost:8080/",
          "height": 295
        }
      },
      "source": [
        "def g(x):\n",
        "    return 6*x*np.exp(-x)\n",
        "\n",
        "# Tracé de la courbe \n",
        "x = np.linspace(0,10,100)\n",
        "plt.plot(x,g(x),'r', label=\"g(x)\")\n",
        "\n",
        "# Axes des coordonnées\n",
        "plt.plot(x, np.zeros(100), 'k')\n",
        "plt.plot([0, 0],[-20, 20], 'k')\n",
        "plt.text(-0.2, 0.1, \"O\")\n",
        "\n",
        "plt.plot([0, 7],[0.05, 0.05], color='k', linestyle=\":\", label=\"max 0.05 mg/L\")\n",
        "\n",
        "plt.title(\"Concentration dans le sang\")\n",
        "plt.xlabel(\"Heures\")\n",
        "plt.ylabel(\"Concentration en mg/L\")\n",
        "plt.grid()\n",
        "plt.legend(loc=\"best\", shadow=True)\n",
        "# « cadrer » les axes   : plt.axis([xmin, xmax, ymin, ymax]).\n",
        "plt.axis([0, 7, 0, 2.7])\n",
        "plt.show()"
      ],
      "execution_count": 0,
      "outputs": [
        {
          "output_type": "display_data",
          "data": {
            "image/png": "[encoded data removed]",
            "text/plain": [
              "<Figure size 432x288 with 1 Axes>"
            ]
          },
          "metadata": {
            "tags": [],
            "needs_background": "light"
          }
        }
      ]
    },
    {
      "cell_type": "code",
      "metadata": {
        "id": "AZOXyFXj1Iti",
        "colab_type": "code",
        "outputId": "a840f0a9-6bbd-4fda-b9dc-679737f3c92c",
        "colab": {
          "base_uri": "https://localhost:8080/",
          "height": 35
        }
      },
      "source": [
        "print(\"Concentration maximale du médicament dans le sang : {:.1f} mg/L\".format(g(1)))"
      ],
      "execution_count": 0,
      "outputs": [
        {
          "output_type": "stream",
          "text": [
            "Concentration maximale du médicament dans le sang : 2.2 mg/L\n"
          ],
          "name": "stdout"
        }
      ]
    },
    {
      "cell_type": "code",
      "metadata": {
        "id": "2KrRhF981Itm",
        "colab_type": "code",
        "outputId": "5b67eae4-f90c-4ebd-a667-e10069617595",
        "colab": {
          "base_uri": "https://localhost:8080/",
          "height": 35
        }
      },
      "source": [
        "x = 1\n",
        "val_max = 0.05\n",
        "delta = 0.001\n",
        "while g(x) > val_max:\n",
        "    x = x + delta\n",
        "print(\"Pour être en-dessous de {} mg/L, il faut attendre {:.2f} heures\".format(val_max, x))"
      ],
      "execution_count": 0,
      "outputs": [
        {
          "output_type": "stream",
          "text": [
            "Pour être en-dessous de 0.05 mg/L, il faut attendre 6.69 heures\n"
          ],
          "name": "stdout"
        }
      ]
    },
    {
      "cell_type": "markdown",
      "metadata": {
        "id": "7pYjOSl51Itq",
        "colab_type": "text"
      },
      "source": [
        "<span style='color:blue'>Maël 16/04/20</span><br>\n",
        "<b>Exercice 98</b><br>\n",
        "Soit $f$ la fonction définie sur $\\mathbb{R}$ :<br>\n",
        "$f(x) = \\frac{e^{1-x}}{x^2 + 1}$<br>\n",
        "Etudier sa variation et dessiner son graphe.<br>"
      ]
    },
    {
      "cell_type": "markdown",
      "metadata": {
        "id": "f-yZKkJy1Itr",
        "colab_type": "text"
      },
      "source": [
        "<span style='color:blue'>Maël 16/04/20</span><br>\n",
        "<b>Exercice 98 Corrigé</b><br>\n",
        "Rappel : $(e^u)' = u' e^u$<br>\n",
        "On applique : $(\\frac{u}{v})'=\\frac{u'v-uv'}{v^2}$<br>\n",
        "$f'(x) = \\frac{-e^{1-x} (x^2 + 1) \\, - \\, 2x e^{1-x}}{(x^2 + 1)^2}$<br>\n",
        "$= \\frac{-e^{1-x} (x^2 + 1 + 2x)}{(x^2 + 1)^2} $<br>\n",
        "$= \\frac{-e^{1-x} (x+1)^2}{(x^2 + 1)^2}$<br>\n",
        "$f'(x)=0$ pour $x=-1$<br>\n",
        "$f'(x)$ est négative sur $\\mathbb{R}$, la fonction $f(x)$ est donc décroissante.<br>\n",
        "$f(-1)\\simeq 3.70 $<br>\n",
        "\n",
        "| $x$ | $-\\infty$ || $-1$||$+\\infty$|\n",
        "|:-----:|------:|------:|------:|------:|------:|\n",
        "|$f'(x)$|-||0|-||\n",
        "|$f(x)$|$+\\infty$| $\\searrow$ | $3.70$ | $\\searrow$|0|\n",
        "\n"
      ]
    },
    {
      "cell_type": "code",
      "metadata": {
        "id": "SiGYAYQH1Its",
        "colab_type": "code",
        "outputId": "06f8e6b7-a578-4a2d-db38-f68425b1fa21",
        "colab": {
          "base_uri": "https://localhost:8080/",
          "height": 313
        }
      },
      "source": [
        "def f(x):\n",
        "    return np.exp(1-x) / (x**2 + 1)\n",
        "\n",
        "print(\"f(-1) = {}\".format(f(-1)))\n",
        "\n",
        "# Tracé de la courbe \n",
        "x = np.linspace(-10,10,100)\n",
        "plt.plot(x,f(x),'r', label=\"f(x)\")\n",
        "\n",
        "# Axes des coordonnées\n",
        "plt.plot(x, np.zeros(100), 'k')\n",
        "plt.plot([0, 0],[-20, 20], 'k')\n",
        "plt.text(-0.2, 0.1, \"O\")\n",
        "\n",
        "plt.scatter(0, e, color='r', s=20)\n",
        "plt.text(0.15, e, \"e\")\n",
        "\n",
        "plt.title(\"Etude de fonction\")\n",
        "plt.xlabel(\"x\")\n",
        "plt.ylabel(\"y\")\n",
        "plt.grid()\n",
        "plt.legend(loc=\"best\", shadow=True)\n",
        "# « cadrer » les axes   : plt.axis([xmin, xmax, ymin, ymax]).\n",
        "plt.axis([-3, 4, -1, 6])\n",
        "plt.show()"
      ],
      "execution_count": 0,
      "outputs": [
        {
          "output_type": "stream",
          "text": [
            "f(-1) = 3.694528049465325\n"
          ],
          "name": "stdout"
        },
        {
          "output_type": "display_data",
          "data": {
            "image/png": "[encoded data removed]",
            "text/plain": [
              "<Figure size 432x288 with 1 Axes>"
            ]
          },
          "metadata": {
            "tags": [],
            "needs_background": "light"
          }
        }
      ]
    },
    {
      "cell_type": "markdown",
      "metadata": {
        "id": "_cKjqWfF1Itx",
        "colab_type": "text"
      },
      "source": [
        "<span style='color:blue'>Barros n°72 p 100, Maël 04/20</span><br>\n",
        "## Exercice Réchauffement ou refroidissement\n",
        "   \n",
        "$T_0$ : température du corps<br>\n",
        "$T_a$ : température ambiante<br>\n",
        "\n",
        "Evolution de la température en fonction du temps selon la Loi de Newton :<br>\n",
        "$T(t) = (T_0 - T_a) \\, e^{-kt} + T_a$ où k est une consatne positive.<br>\n",
        "$T(t)$ est définie sur l'intervalle $[0 \\, ; \\, infty]$<br>\n",
        "On remarque que $T(0) = T_0$ <br>\n",
        "On remarque que $\\lim\\limits_{t \\to \\infty} T(t) = T_a$"
      ]
    },
    {
      "cell_type": "code",
      "metadata": {
        "id": "fmA0-v7x1Ity",
        "colab_type": "code",
        "colab": {}
      },
      "source": [
        "from math import *\n",
        "import matplotlib.pyplot as plt\n",
        "import numpy as np"
      ],
      "execution_count": 0,
      "outputs": []
    },
    {
      "cell_type": "markdown",
      "metadata": {
        "id": "9BA6r8aq1It2",
        "colab_type": "text"
      },
      "source": [
        "**Etude du sens de variation de T**<br>\n",
        "$(e^x)' = e^x$<br>\n",
        "$(e^u)' = u' \\, e^u$<br>\n",
        "$T'(t) = -k(T_0 - T_a) e^{-kt}$"
      ]
    },
    {
      "cell_type": "markdown",
      "metadata": {
        "id": "kILbmBbP1It4",
        "colab_type": "text"
      },
      "source": [
        "Si $T_0 > T_a$, c'est-à-dire si la température du corps est supérieure à la température ambiante,<br>\n",
        "la dérivée est négative, $T(t)$ est décroissante. <br>\n",
        "La température du corps baisse jusqu'à ateindre la valeur $T_a$."
      ]
    },
    {
      "cell_type": "markdown",
      "metadata": {
        "id": "dUpA1UkO1It4",
        "colab_type": "text"
      },
      "source": [
        "Si $T_0 < T_a$, c'est-à-dire si la température du corps est inférieure à la température ambiante,<br>\n",
        "la dérivée est positive, $T(t)$ est croissante. <br>\n",
        "La température du corps monte jusqu'à ateindre la valeur $T_a$."
      ]
    },
    {
      "cell_type": "markdown",
      "metadata": {
        "id": "P9or4FBT1It5",
        "colab_type": "text"
      },
      "source": [
        "$T_a = 20 °C$<br>\n",
        "$T_0 = 180 °C$<br>\n",
        "$T(30) = 100 °C$<br>\n",
        "Calcul de k :<br>\n",
        "$T(30) = 100 = (180 - 20)  e^{-30k} + 20 $<br>\n",
        "$80 = 160 e^{-30k}$ <br>\n",
        "$e^{-30k} = {80 \\over 160}$<br>\n",
        "$-30k = \\ln{1 \\over 2}$<br>\n",
        "$k = \\frac{\\ln{1 \\over 2}}{-30} = 0.0231$"
      ]
    },
    {
      "cell_type": "code",
      "metadata": {
        "id": "v8UsJ2dF1It7",
        "colab_type": "code",
        "colab": {}
      },
      "source": [
        "# Fonction de Newton\n",
        "T0 = 20 # Température du corps au départ\n",
        "Ta = 180 # Température ambiante\n",
        "k = 0.5\n",
        "def T(t):\n",
        "    return (T0 - Ta)* np.exp(-k*t) + Ta"
      ],
      "execution_count": 0,
      "outputs": []
    },
    {
      "cell_type": "code",
      "metadata": {
        "id": "bZoCjQSR1It_",
        "colab_type": "code",
        "outputId": "94344f27-311b-4d36-e3de-f4dc1ba17edc",
        "colab": {
          "base_uri": "https://localhost:8080/",
          "height": 72
        }
      },
      "source": [
        "# Calcul de k sachant que T(30) = 100\n",
        "Ta = 20\n",
        "T0 = 180\n",
        "k  = -log((100 - Ta) / (T0 - Ta)) / 30\n",
        "print(\"Température ambiante : \", Ta)\n",
        "print(\"Température du gâteau : \", T0)\n",
        "print(\"k =\",k)"
      ],
      "execution_count": 0,
      "outputs": [
        {
          "output_type": "stream",
          "text": [
            "Température ambiante :  20\n",
            "Température du gâteau :  180\n",
            "k = 0.023104906018664842\n"
          ],
          "name": "stdout"
        }
      ]
    },
    {
      "cell_type": "code",
      "metadata": {
        "id": "d2Uvehe91IuC",
        "colab_type": "code",
        "outputId": "a97af7f9-2dea-4136-aa72-7f3c7962c30c",
        "colab": {
          "base_uri": "https://localhost:8080/",
          "height": 35
        }
      },
      "source": [
        "# Vérification que le k trouvé est  le bon\n",
        "print(T(30))"
      ],
      "execution_count": 0,
      "outputs": [
        {
          "output_type": "stream",
          "text": [
            "100.0\n"
          ],
          "name": "stdout"
        }
      ]
    },
    {
      "cell_type": "markdown",
      "metadata": {
        "id": "wgHV3K-Z1IuF",
        "colab_type": "text"
      },
      "source": [
        "**A quelle heure le gâteau sera-t-il à 30°C ?**<br>\n",
        "Il faut résoudre l'équation : $t? \\, T(t) = 30°C$"
      ]
    },
    {
      "cell_type": "code",
      "metadata": {
        "id": "jt8CW6wm1IuG",
        "colab_type": "code",
        "outputId": "bb06e73f-10c3-40e3-c234-39b0cbe90f4d",
        "colab": {
          "base_uri": "https://localhost:8080/",
          "height": 35
        }
      },
      "source": [
        "Tf = 30\n",
        "résultat  = -log((Tf - Ta) / (T0 - Ta)) / k\n",
        "print(\"Temps nécessaire pour atteindre {} °C : {} mn\".format(Tf, résultat))"
      ],
      "execution_count": 0,
      "outputs": [
        {
          "output_type": "stream",
          "text": [
            "Temps nécessaire pour atteindre 30 °C : 120.0 mn\n"
          ],
          "name": "stdout"
        }
      ]
    },
    {
      "cell_type": "code",
      "metadata": {
        "id": "QLyMWS9A1IuI",
        "colab_type": "code",
        "outputId": "5c73df67-c509-4f4c-98b8-0498216f965c",
        "colab": {
          "base_uri": "https://localhost:8080/",
          "height": 295
        }
      },
      "source": [
        "# Tracé de la courbe de refroidissement\n",
        "Ta = 20\n",
        "T0 = 180\n",
        "# 100 nombres linearly spaced entre 0 et 200\n",
        "x = np.linspace(0,200,100)\n",
        "y = T(x)\n",
        "plt.plot(x,y,'r')\n",
        "plt.title(\"Refroissement selon la loi de Newton\")\n",
        "plt.xlabel(\"Minutes\")\n",
        "plt.ylabel(\"Température (°C)\")\n",
        "plt.grid()\n",
        "plt.show()"
      ],
      "execution_count": 0,
      "outputs": [
        {
          "output_type": "display_data",
          "data": {
            "image/png": "[encoded data removed]",
            "text/plain": [
              "<Figure size 432x288 with 1 Axes>"
            ]
          },
          "metadata": {
            "tags": [],
            "needs_background": "light"
          }
        }
      ]
    },
    {
      "cell_type": "code",
      "metadata": {
        "id": "7b3WRy9V1IuL",
        "colab_type": "code",
        "colab": {}
      },
      "source": [
        ""
      ],
      "execution_count": 0,
      "outputs": []
    }
  ]
}